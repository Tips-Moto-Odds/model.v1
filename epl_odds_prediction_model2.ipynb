{
 "cells": [
  {
   "cell_type": "markdown",
   "id": "6dcd87f5-3a89-414e-9a78-cb34fb3c42ff",
   "metadata": {},
   "source": [
    "# Simplified Machine Learning Workflow for Calculating the Odds of an EPL Football Match"
   ]
  },
  {
   "cell_type": "markdown",
   "id": "35f87e16-3bd9-4c63-a3ee-bf838b6fed87",
   "metadata": {},
   "source": [
    "The following is a simplified workflow to demonstrate the validity of using machine learning to calculate English Premier League (EPL) match odds. It is a proof of concept that would need to be built upon.\n",
    "\n",
    "This is a simplification in that:\n",
    "1. Not much effort has been put into collecting data to train the model with. Rather, a readily accessible database has been used. More data with more match statistics would likely improve model results.\n",
    "2. The broader machine learning process involves experimenting with different model types/ combinations and varied model parameters to try and establish which is most reliable in its predictions.\n",
    "\n",
    "\n",
    "A more comprehensive machine learning workflow would involve:\n",
    "1. Comparing the suitabilities of various machine learning models (the random forest algorithm used here, however, is suitable)) to our specific problem\n",
    "2. Sourcing more data. Suggestions are: players in the game, winning/ losing streak, historical possession statistics etc.\n",
    "\n",
    "Crucially, the accuracy of the predictions are likely to improve if more data and data items (match statistics) are used to train the model."
   ]
  },
  {
   "cell_type": "markdown",
   "id": "59ec0a06-cd41-4554-bc93-e95bfbed2a2d",
   "metadata": {},
   "source": [
    "### Section Outline\n",
    "\n",
    "1. Scraping, importing, cleaning, and modifying data\n",
    "2. Training the machine learning model\n",
    "3. Example future prediction\n",
    "4. Further work"
   ]
  },
  {
   "cell_type": "markdown",
   "id": "1f809e07-0195-4ab6-a4b5-3515084c6968",
   "metadata": {},
   "source": [
    "## 1. Importing, cleaning, and modifying data."
   ]
  },
  {
   "cell_type": "markdown",
   "id": "0b27ae70-6d64-41a5-a716-a247557975b0",
   "metadata": {},
   "source": [
    "Scrape the present season's match data.\n",
    "\n",
    "This datasource is updated after every EPL match. It is therefore necessary to run this everytime before training a model to have the most recent match data.\n",
    "\n",
    "The following comma-separated values (CSV) data has been imported from https://www.football-data.co.uk/englandm.php. I scraped data on the EPL season 2023-2024."
   ]
  },
  {
   "cell_type": "code",
   "execution_count": 2,
   "id": "206c9877-f527-413f-a809-c620e7139c30",
   "metadata": {},
   "outputs": [
    {
     "name": "stdout",
     "output_type": "stream",
     "text": [
      "File downloaded successfully as data/E0.csv\n"
     ]
    }
   ],
   "source": [
    "import requests\n",
    "\n",
    "url = 'https://www.football-data.co.uk/mmz4281/2324/E0.csv'\n",
    "file_name = 'data/E0.csv'\n",
    "\n",
    "response = requests.get(url)\n",
    "\n",
    "if response.status_code == 200:\n",
    "    with open(file_name, 'wb') as file:\n",
    "        file.write(response.content)\n",
    "    print(f'File downloaded successfully as {file_name}')\n",
    "else:\n",
    "    print(f'Failed to download the file. Status code: {response.status_code}')"
   ]
  },
  {
   "cell_type": "markdown",
   "id": "4fd2bde9-a245-413f-a5d4-9cf8139ae8dc",
   "metadata": {},
   "source": [
    "Importing model dependencies"
   ]
  },
  {
   "cell_type": "code",
   "execution_count": 3,
   "id": "45af6811-1862-4f70-8b93-c073377d1294",
   "metadata": {},
   "outputs": [],
   "source": [
    "import pandas as pd\n",
    "\n",
    "import requests\n",
    "from sklearn.ensemble import RandomForestClassifier\n",
    "from sklearn.metrics import accuracy_score"
   ]
  },
  {
   "cell_type": "markdown",
   "id": "55689af5-aed6-4d59-a5d9-243ac32f6a96",
   "metadata": {},
   "source": [
    "Import the data"
   ]
  },
  {
   "cell_type": "code",
   "execution_count": 4,
   "id": "4b88341f-b698-4137-9f5a-ddecfb0a553a",
   "metadata": {},
   "outputs": [],
   "source": [
    "df = pd.read_csv('data/E0.csv')"
   ]
  },
  {
   "cell_type": "markdown",
   "id": "106692aa-9fc5-4bfe-a6e8-be9f57df8240",
   "metadata": {},
   "source": [
    "Viewing the first five rows"
   ]
  },
  {
   "cell_type": "code",
   "execution_count": 8,
   "id": "4bce28e8-2988-4634-89d2-229925e1a6db",
   "metadata": {},
   "outputs": [
    {
     "data": {
      "text/html": [
       "<div>\n",
       "<style scoped>\n",
       "    .dataframe tbody tr th:only-of-type {\n",
       "        vertical-align: middle;\n",
       "    }\n",
       "\n",
       "    .dataframe tbody tr th {\n",
       "        vertical-align: top;\n",
       "    }\n",
       "\n",
       "    .dataframe thead th {\n",
       "        text-align: right;\n",
       "    }\n",
       "</style>\n",
       "<table border=\"1\" class=\"dataframe\">\n",
       "  <thead>\n",
       "    <tr style=\"text-align: right;\">\n",
       "      <th></th>\n",
       "      <th>Div</th>\n",
       "      <th>Date</th>\n",
       "      <th>Time</th>\n",
       "      <th>HomeTeam</th>\n",
       "      <th>AwayTeam</th>\n",
       "      <th>FTHG</th>\n",
       "      <th>FTAG</th>\n",
       "      <th>FTR</th>\n",
       "      <th>HTHG</th>\n",
       "      <th>HTAG</th>\n",
       "      <th>HTR</th>\n",
       "      <th>Referee</th>\n",
       "      <th>HS</th>\n",
       "      <th>AS</th>\n",
       "      <th>HST</th>\n",
       "      <th>AST</th>\n",
       "    </tr>\n",
       "  </thead>\n",
       "  <tbody>\n",
       "    <tr>\n",
       "      <th>342</th>\n",
       "      <td>E0</td>\n",
       "      <td>27/04/2024</td>\n",
       "      <td>20:00</td>\n",
       "      <td>Aston Villa</td>\n",
       "      <td>Chelsea</td>\n",
       "      <td>2</td>\n",
       "      <td>2</td>\n",
       "      <td>D</td>\n",
       "      <td>2</td>\n",
       "      <td>0</td>\n",
       "      <td>H</td>\n",
       "      <td>C Pawson</td>\n",
       "      <td>9</td>\n",
       "      <td>21</td>\n",
       "      <td>4</td>\n",
       "      <td>5</td>\n",
       "    </tr>\n",
       "    <tr>\n",
       "      <th>343</th>\n",
       "      <td>E0</td>\n",
       "      <td>28/04/2024</td>\n",
       "      <td>14:00</td>\n",
       "      <td>Bournemouth</td>\n",
       "      <td>Brighton</td>\n",
       "      <td>3</td>\n",
       "      <td>0</td>\n",
       "      <td>H</td>\n",
       "      <td>1</td>\n",
       "      <td>0</td>\n",
       "      <td>H</td>\n",
       "      <td>P Tierney</td>\n",
       "      <td>15</td>\n",
       "      <td>13</td>\n",
       "      <td>6</td>\n",
       "      <td>1</td>\n",
       "    </tr>\n",
       "    <tr>\n",
       "      <th>344</th>\n",
       "      <td>E0</td>\n",
       "      <td>28/04/2024</td>\n",
       "      <td>14:00</td>\n",
       "      <td>Tottenham</td>\n",
       "      <td>Arsenal</td>\n",
       "      <td>2</td>\n",
       "      <td>3</td>\n",
       "      <td>A</td>\n",
       "      <td>0</td>\n",
       "      <td>3</td>\n",
       "      <td>A</td>\n",
       "      <td>M Oliver</td>\n",
       "      <td>14</td>\n",
       "      <td>9</td>\n",
       "      <td>2</td>\n",
       "      <td>3</td>\n",
       "    </tr>\n",
       "    <tr>\n",
       "      <th>345</th>\n",
       "      <td>E0</td>\n",
       "      <td>28/04/2024</td>\n",
       "      <td>16:30</td>\n",
       "      <td>Nott'm Forest</td>\n",
       "      <td>Man City</td>\n",
       "      <td>0</td>\n",
       "      <td>2</td>\n",
       "      <td>A</td>\n",
       "      <td>0</td>\n",
       "      <td>1</td>\n",
       "      <td>A</td>\n",
       "      <td>S Hooper</td>\n",
       "      <td>14</td>\n",
       "      <td>11</td>\n",
       "      <td>2</td>\n",
       "      <td>5</td>\n",
       "    </tr>\n",
       "    <tr>\n",
       "      <th>346</th>\n",
       "      <td>E0</td>\n",
       "      <td>02/05/2024</td>\n",
       "      <td>19:30</td>\n",
       "      <td>Chelsea</td>\n",
       "      <td>Tottenham</td>\n",
       "      <td>2</td>\n",
       "      <td>0</td>\n",
       "      <td>H</td>\n",
       "      <td>1</td>\n",
       "      <td>0</td>\n",
       "      <td>H</td>\n",
       "      <td>R Jones</td>\n",
       "      <td>16</td>\n",
       "      <td>19</td>\n",
       "      <td>5</td>\n",
       "      <td>3</td>\n",
       "    </tr>\n",
       "  </tbody>\n",
       "</table>\n",
       "</div>"
      ],
      "text/plain": [
       "    Div        Date   Time       HomeTeam   AwayTeam  FTHG  FTAG FTR  HTHG  \\\n",
       "342  E0  27/04/2024  20:00    Aston Villa    Chelsea     2     2   D     2   \n",
       "343  E0  28/04/2024  14:00    Bournemouth   Brighton     3     0   H     1   \n",
       "344  E0  28/04/2024  14:00      Tottenham    Arsenal     2     3   A     0   \n",
       "345  E0  28/04/2024  16:30  Nott'm Forest   Man City     0     2   A     0   \n",
       "346  E0  02/05/2024  19:30        Chelsea  Tottenham     2     0   H     1   \n",
       "\n",
       "     HTAG HTR    Referee  HS  AS  HST  AST  \n",
       "342     0   H   C Pawson   9  21    4    5  \n",
       "343     0   H  P Tierney  15  13    6    1  \n",
       "344     3   A   M Oliver  14   9    2    3  \n",
       "345     1   A   S Hooper  14  11    2    5  \n",
       "346     0   H    R Jones  16  19    5    3  "
      ]
     },
     "execution_count": 8,
     "metadata": {},
     "output_type": "execute_result"
    }
   ],
   "source": [
    "df.tail()"
   ]
  },
  {
   "cell_type": "markdown",
   "id": "e5db0015-a253-4633-944d-eb6d6a95ba67",
   "metadata": {},
   "source": [
    "I will limit the model to make use of the following columns only:\n",
    "\n",
    "1. FTHG: Full Time Home Team Goals\r",
    "2. \n",
    "FTAG: Full Time Away Team Goal\n",
    "\n",
    "3. FTR: Full Time Result (W = Home Win, D = Draw, L = Away Win)\r\n",
    "4. \n",
    "HTHG: Half Time Home Team Goals\n",
    "5. \r\n",
    "HTAG: Half Time Away Team Goa\n",
    "\n",
    "6. HTR: Half Time Result (W = Home Win, D = Draw, L = Away Win)\n",
    "\n",
    "7. Referee: Name of the referee who officiated the match\n",
    "8. HS: Home Team Shots\n",
    "9. AS: Away Team Shots\n",
    "10. HST: Home Team Shots on Target\n",
    "11. AST: Away Team Shots on Target on Targetts on Target"
   ]
  },
  {
   "cell_type": "markdown",
   "id": "727eeb9c-03a6-4416-8c28-ca949abbaa78",
   "metadata": {},
   "source": [
    "Removing the rest of the columns"
   ]
  },
  {
   "cell_type": "code",
   "execution_count": 9,
   "id": "2b0fa96b-24d7-490b-b1fb-95485ee3fee8",
   "metadata": {},
   "outputs": [],
   "source": [
    "# drop columns from fouls onwards: df.columns[16] = 'HF\" (home fouls)\n",
    "\n",
    "while len(df.columns) > 16:\n",
    "    df.drop(df.columns[-1], axis=1, inplace=True)"
   ]
  },
  {
   "cell_type": "code",
   "execution_count": 10,
   "id": "912b618d-2c02-40ec-8fca-4bcf395f06de",
   "metadata": {},
   "outputs": [
    {
     "data": {
      "text/html": [
       "<div>\n",
       "<style scoped>\n",
       "    .dataframe tbody tr th:only-of-type {\n",
       "        vertical-align: middle;\n",
       "    }\n",
       "\n",
       "    .dataframe tbody tr th {\n",
       "        vertical-align: top;\n",
       "    }\n",
       "\n",
       "    .dataframe thead th {\n",
       "        text-align: right;\n",
       "    }\n",
       "</style>\n",
       "<table border=\"1\" class=\"dataframe\">\n",
       "  <thead>\n",
       "    <tr style=\"text-align: right;\">\n",
       "      <th></th>\n",
       "      <th>Div</th>\n",
       "      <th>Date</th>\n",
       "      <th>Time</th>\n",
       "      <th>HomeTeam</th>\n",
       "      <th>AwayTeam</th>\n",
       "      <th>FTHG</th>\n",
       "      <th>FTAG</th>\n",
       "      <th>FTR</th>\n",
       "      <th>HTHG</th>\n",
       "      <th>HTAG</th>\n",
       "      <th>HTR</th>\n",
       "      <th>Referee</th>\n",
       "      <th>HS</th>\n",
       "      <th>AS</th>\n",
       "      <th>HST</th>\n",
       "      <th>AST</th>\n",
       "    </tr>\n",
       "  </thead>\n",
       "  <tbody>\n",
       "    <tr>\n",
       "      <th>342</th>\n",
       "      <td>E0</td>\n",
       "      <td>27/04/2024</td>\n",
       "      <td>20:00</td>\n",
       "      <td>Aston Villa</td>\n",
       "      <td>Chelsea</td>\n",
       "      <td>2</td>\n",
       "      <td>2</td>\n",
       "      <td>D</td>\n",
       "      <td>2</td>\n",
       "      <td>0</td>\n",
       "      <td>H</td>\n",
       "      <td>C Pawson</td>\n",
       "      <td>9</td>\n",
       "      <td>21</td>\n",
       "      <td>4</td>\n",
       "      <td>5</td>\n",
       "    </tr>\n",
       "    <tr>\n",
       "      <th>343</th>\n",
       "      <td>E0</td>\n",
       "      <td>28/04/2024</td>\n",
       "      <td>14:00</td>\n",
       "      <td>Bournemouth</td>\n",
       "      <td>Brighton</td>\n",
       "      <td>3</td>\n",
       "      <td>0</td>\n",
       "      <td>H</td>\n",
       "      <td>1</td>\n",
       "      <td>0</td>\n",
       "      <td>H</td>\n",
       "      <td>P Tierney</td>\n",
       "      <td>15</td>\n",
       "      <td>13</td>\n",
       "      <td>6</td>\n",
       "      <td>1</td>\n",
       "    </tr>\n",
       "    <tr>\n",
       "      <th>344</th>\n",
       "      <td>E0</td>\n",
       "      <td>28/04/2024</td>\n",
       "      <td>14:00</td>\n",
       "      <td>Tottenham</td>\n",
       "      <td>Arsenal</td>\n",
       "      <td>2</td>\n",
       "      <td>3</td>\n",
       "      <td>A</td>\n",
       "      <td>0</td>\n",
       "      <td>3</td>\n",
       "      <td>A</td>\n",
       "      <td>M Oliver</td>\n",
       "      <td>14</td>\n",
       "      <td>9</td>\n",
       "      <td>2</td>\n",
       "      <td>3</td>\n",
       "    </tr>\n",
       "    <tr>\n",
       "      <th>345</th>\n",
       "      <td>E0</td>\n",
       "      <td>28/04/2024</td>\n",
       "      <td>16:30</td>\n",
       "      <td>Nott'm Forest</td>\n",
       "      <td>Man City</td>\n",
       "      <td>0</td>\n",
       "      <td>2</td>\n",
       "      <td>A</td>\n",
       "      <td>0</td>\n",
       "      <td>1</td>\n",
       "      <td>A</td>\n",
       "      <td>S Hooper</td>\n",
       "      <td>14</td>\n",
       "      <td>11</td>\n",
       "      <td>2</td>\n",
       "      <td>5</td>\n",
       "    </tr>\n",
       "    <tr>\n",
       "      <th>346</th>\n",
       "      <td>E0</td>\n",
       "      <td>02/05/2024</td>\n",
       "      <td>19:30</td>\n",
       "      <td>Chelsea</td>\n",
       "      <td>Tottenham</td>\n",
       "      <td>2</td>\n",
       "      <td>0</td>\n",
       "      <td>H</td>\n",
       "      <td>1</td>\n",
       "      <td>0</td>\n",
       "      <td>H</td>\n",
       "      <td>R Jones</td>\n",
       "      <td>16</td>\n",
       "      <td>19</td>\n",
       "      <td>5</td>\n",
       "      <td>3</td>\n",
       "    </tr>\n",
       "  </tbody>\n",
       "</table>\n",
       "</div>"
      ],
      "text/plain": [
       "    Div        Date   Time       HomeTeam   AwayTeam  FTHG  FTAG FTR  HTHG  \\\n",
       "342  E0  27/04/2024  20:00    Aston Villa    Chelsea     2     2   D     2   \n",
       "343  E0  28/04/2024  14:00    Bournemouth   Brighton     3     0   H     1   \n",
       "344  E0  28/04/2024  14:00      Tottenham    Arsenal     2     3   A     0   \n",
       "345  E0  28/04/2024  16:30  Nott'm Forest   Man City     0     2   A     0   \n",
       "346  E0  02/05/2024  19:30        Chelsea  Tottenham     2     0   H     1   \n",
       "\n",
       "     HTAG HTR    Referee  HS  AS  HST  AST  \n",
       "342     0   H   C Pawson   9  21    4    5  \n",
       "343     0   H  P Tierney  15  13    6    1  \n",
       "344     3   A   M Oliver  14   9    2    3  \n",
       "345     1   A   S Hooper  14  11    2    5  \n",
       "346     0   H    R Jones  16  19    5    3  "
      ]
     },
     "execution_count": 10,
     "metadata": {},
     "output_type": "execute_result"
    }
   ],
   "source": [
    "df.tail()"
   ]
  },
  {
   "cell_type": "markdown",
   "id": "a6d32bbd-9831-4446-8179-6e8e15858f53",
   "metadata": {},
   "source": [
    "Drop/ remove unneccesary column"
   ]
  },
  {
   "cell_type": "code",
   "execution_count": 11,
   "id": "5187a517-6bc1-4bec-8d0b-c28ff90f77ac",
   "metadata": {},
   "outputs": [],
   "source": [
    "df.drop(['Div'], axis=1, inplace=True)"
   ]
  },
  {
   "cell_type": "markdown",
   "id": "e5ebd755-d5f7-4c49-8fb9-e155400e97f8",
   "metadata": {},
   "source": [
    "View the data types of the remaining columns"
   ]
  },
  {
   "cell_type": "code",
   "execution_count": 12,
   "id": "d93f708c-e275-46b6-b3a3-2621713e45ca",
   "metadata": {},
   "outputs": [
    {
     "data": {
      "text/plain": [
       "Date        object\n",
       "Time        object\n",
       "HomeTeam    object\n",
       "AwayTeam    object\n",
       "FTHG         int64\n",
       "FTAG         int64\n",
       "FTR         object\n",
       "HTHG         int64\n",
       "HTAG         int64\n",
       "HTR         object\n",
       "Referee     object\n",
       "HS           int64\n",
       "AS           int64\n",
       "HST          int64\n",
       "AST          int64\n",
       "dtype: object"
      ]
     },
     "execution_count": 12,
     "metadata": {},
     "output_type": "execute_result"
    }
   ],
   "source": [
    "df.dtypes"
   ]
  },
  {
   "cell_type": "markdown",
   "id": "d5e74117-8544-496d-819e-64a22acd18eb",
   "metadata": {},
   "source": [
    "Machine leaning models can only work with numerical data. We will have to convert the non-integer columns above to integer equivalents and then capture these columns as predictor variables."
   ]
  },
  {
   "cell_type": "markdown",
   "id": "f6acb28d-0cae-43cf-933b-b9482f07b0a5",
   "metadata": {},
   "source": [
    "Give every team some integer code to be referenced by in the ML model, instead of a name."
   ]
  },
  {
   "cell_type": "code",
   "execution_count": 13,
   "id": "d9fb868f-8af0-4bbc-a12c-c7c322750a6f",
   "metadata": {},
   "outputs": [],
   "source": [
    "df['opp_code'] = df['AwayTeam'].astype('category').cat.codes"
   ]
  },
  {
   "cell_type": "markdown",
   "id": "7de0a428-09dd-46a8-9f71-336efa9fbcca",
   "metadata": {},
   "source": [
    "Notice the new column"
   ]
  },
  {
   "cell_type": "code",
   "execution_count": 15,
   "id": "f3bb6715-24b2-46ff-b4b5-5ad88b50e57b",
   "metadata": {},
   "outputs": [
    {
     "data": {
      "text/html": [
       "<div>\n",
       "<style scoped>\n",
       "    .dataframe tbody tr th:only-of-type {\n",
       "        vertical-align: middle;\n",
       "    }\n",
       "\n",
       "    .dataframe tbody tr th {\n",
       "        vertical-align: top;\n",
       "    }\n",
       "\n",
       "    .dataframe thead th {\n",
       "        text-align: right;\n",
       "    }\n",
       "</style>\n",
       "<table border=\"1\" class=\"dataframe\">\n",
       "  <thead>\n",
       "    <tr style=\"text-align: right;\">\n",
       "      <th></th>\n",
       "      <th>Date</th>\n",
       "      <th>Time</th>\n",
       "      <th>HomeTeam</th>\n",
       "      <th>AwayTeam</th>\n",
       "      <th>FTHG</th>\n",
       "      <th>FTAG</th>\n",
       "      <th>FTR</th>\n",
       "      <th>HTHG</th>\n",
       "      <th>HTAG</th>\n",
       "      <th>HTR</th>\n",
       "      <th>Referee</th>\n",
       "      <th>HS</th>\n",
       "      <th>AS</th>\n",
       "      <th>HST</th>\n",
       "      <th>AST</th>\n",
       "      <th>opp_code</th>\n",
       "    </tr>\n",
       "  </thead>\n",
       "  <tbody>\n",
       "    <tr>\n",
       "      <th>342</th>\n",
       "      <td>27/04/2024</td>\n",
       "      <td>20:00</td>\n",
       "      <td>Aston Villa</td>\n",
       "      <td>Chelsea</td>\n",
       "      <td>2</td>\n",
       "      <td>2</td>\n",
       "      <td>D</td>\n",
       "      <td>2</td>\n",
       "      <td>0</td>\n",
       "      <td>H</td>\n",
       "      <td>C Pawson</td>\n",
       "      <td>9</td>\n",
       "      <td>21</td>\n",
       "      <td>4</td>\n",
       "      <td>5</td>\n",
       "      <td>6</td>\n",
       "    </tr>\n",
       "    <tr>\n",
       "      <th>343</th>\n",
       "      <td>28/04/2024</td>\n",
       "      <td>14:00</td>\n",
       "      <td>Bournemouth</td>\n",
       "      <td>Brighton</td>\n",
       "      <td>3</td>\n",
       "      <td>0</td>\n",
       "      <td>H</td>\n",
       "      <td>1</td>\n",
       "      <td>0</td>\n",
       "      <td>H</td>\n",
       "      <td>P Tierney</td>\n",
       "      <td>15</td>\n",
       "      <td>13</td>\n",
       "      <td>6</td>\n",
       "      <td>1</td>\n",
       "      <td>4</td>\n",
       "    </tr>\n",
       "    <tr>\n",
       "      <th>344</th>\n",
       "      <td>28/04/2024</td>\n",
       "      <td>14:00</td>\n",
       "      <td>Tottenham</td>\n",
       "      <td>Arsenal</td>\n",
       "      <td>2</td>\n",
       "      <td>3</td>\n",
       "      <td>A</td>\n",
       "      <td>0</td>\n",
       "      <td>3</td>\n",
       "      <td>A</td>\n",
       "      <td>M Oliver</td>\n",
       "      <td>14</td>\n",
       "      <td>9</td>\n",
       "      <td>2</td>\n",
       "      <td>3</td>\n",
       "      <td>0</td>\n",
       "    </tr>\n",
       "    <tr>\n",
       "      <th>345</th>\n",
       "      <td>28/04/2024</td>\n",
       "      <td>16:30</td>\n",
       "      <td>Nott'm Forest</td>\n",
       "      <td>Man City</td>\n",
       "      <td>0</td>\n",
       "      <td>2</td>\n",
       "      <td>A</td>\n",
       "      <td>0</td>\n",
       "      <td>1</td>\n",
       "      <td>A</td>\n",
       "      <td>S Hooper</td>\n",
       "      <td>14</td>\n",
       "      <td>11</td>\n",
       "      <td>2</td>\n",
       "      <td>5</td>\n",
       "      <td>12</td>\n",
       "    </tr>\n",
       "    <tr>\n",
       "      <th>346</th>\n",
       "      <td>02/05/2024</td>\n",
       "      <td>19:30</td>\n",
       "      <td>Chelsea</td>\n",
       "      <td>Tottenham</td>\n",
       "      <td>2</td>\n",
       "      <td>0</td>\n",
       "      <td>H</td>\n",
       "      <td>1</td>\n",
       "      <td>0</td>\n",
       "      <td>H</td>\n",
       "      <td>R Jones</td>\n",
       "      <td>16</td>\n",
       "      <td>19</td>\n",
       "      <td>5</td>\n",
       "      <td>3</td>\n",
       "      <td>17</td>\n",
       "    </tr>\n",
       "  </tbody>\n",
       "</table>\n",
       "</div>"
      ],
      "text/plain": [
       "           Date   Time       HomeTeam   AwayTeam  FTHG  FTAG FTR  HTHG  HTAG  \\\n",
       "342  27/04/2024  20:00    Aston Villa    Chelsea     2     2   D     2     0   \n",
       "343  28/04/2024  14:00    Bournemouth   Brighton     3     0   H     1     0   \n",
       "344  28/04/2024  14:00      Tottenham    Arsenal     2     3   A     0     3   \n",
       "345  28/04/2024  16:30  Nott'm Forest   Man City     0     2   A     0     1   \n",
       "346  02/05/2024  19:30        Chelsea  Tottenham     2     0   H     1     0   \n",
       "\n",
       "    HTR    Referee  HS  AS  HST  AST  opp_code  \n",
       "342   H   C Pawson   9  21    4    5         6  \n",
       "343   H  P Tierney  15  13    6    1         4  \n",
       "344   A   M Oliver  14   9    2    3         0  \n",
       "345   A   S Hooper  14  11    2    5        12  \n",
       "346   H    R Jones  16  19    5    3        17  "
      ]
     },
     "execution_count": 15,
     "metadata": {},
     "output_type": "execute_result"
    }
   ],
   "source": [
    "df.tail()"
   ]
  },
  {
   "cell_type": "markdown",
   "id": "382d69cf-97b2-4757-9624-12d229b92429",
   "metadata": {},
   "source": [
    "The referee name, half-time result, and full-time result can also be number-coded for use in the ML model. The time the match is played might also have a bearing on teams' performace. We will capture only the hour."
   ]
  },
  {
   "cell_type": "code",
   "execution_count": 16,
   "id": "b1aeebdc-3e32-44d5-be93-ddd4da383f5d",
   "metadata": {},
   "outputs": [],
   "source": [
    "df['referee_code'] = df['Referee'].astype('category').cat.codes"
   ]
  },
  {
   "cell_type": "code",
   "execution_count": 17,
   "id": "857fe787-966f-46c8-ab48-5b9c4d95367d",
   "metadata": {},
   "outputs": [],
   "source": [
    "df['HTR_int'] = df['HTR'].map({\"H\": 1, \"D\": 0, \"A\": -1})"
   ]
  },
  {
   "cell_type": "code",
   "execution_count": 18,
   "id": "4efb0799-0bda-4110-a71c-90b2e0a643ab",
   "metadata": {},
   "outputs": [],
   "source": [
    "df['target'] = df[\"FTR\"].map({\"H\": 1, \"D\": 0, \"A\": -1})"
   ]
  },
  {
   "cell_type": "markdown",
   "id": "fb3c2e83-2a4b-4143-9d29-98e741e4ccd4",
   "metadata": {},
   "source": [
    "Notice that a home win is encoded as 1, a draw as 0, and a loss as -1."
   ]
  },
  {
   "cell_type": "code",
   "execution_count": 19,
   "id": "078a44c3-a9b0-4aae-a7d4-49d6cde906fd",
   "metadata": {},
   "outputs": [],
   "source": [
    "df['hour'] = df['Time'].str.replace(':.+', '', regex=True).astype(int)"
   ]
  },
  {
   "cell_type": "code",
   "execution_count": 20,
   "id": "6691728e-45cb-41db-8b3f-06499f320ccd",
   "metadata": {},
   "outputs": [
    {
     "data": {
      "text/html": [
       "<div>\n",
       "<style scoped>\n",
       "    .dataframe tbody tr th:only-of-type {\n",
       "        vertical-align: middle;\n",
       "    }\n",
       "\n",
       "    .dataframe tbody tr th {\n",
       "        vertical-align: top;\n",
       "    }\n",
       "\n",
       "    .dataframe thead th {\n",
       "        text-align: right;\n",
       "    }\n",
       "</style>\n",
       "<table border=\"1\" class=\"dataframe\">\n",
       "  <thead>\n",
       "    <tr style=\"text-align: right;\">\n",
       "      <th></th>\n",
       "      <th>Date</th>\n",
       "      <th>Time</th>\n",
       "      <th>HomeTeam</th>\n",
       "      <th>AwayTeam</th>\n",
       "      <th>FTHG</th>\n",
       "      <th>FTAG</th>\n",
       "      <th>FTR</th>\n",
       "      <th>HTHG</th>\n",
       "      <th>HTAG</th>\n",
       "      <th>HTR</th>\n",
       "      <th>Referee</th>\n",
       "      <th>HS</th>\n",
       "      <th>AS</th>\n",
       "      <th>HST</th>\n",
       "      <th>AST</th>\n",
       "      <th>opp_code</th>\n",
       "      <th>referee_code</th>\n",
       "      <th>HTR_int</th>\n",
       "      <th>target</th>\n",
       "      <th>hour</th>\n",
       "    </tr>\n",
       "  </thead>\n",
       "  <tbody>\n",
       "    <tr>\n",
       "      <th>342</th>\n",
       "      <td>27/04/2024</td>\n",
       "      <td>20:00</td>\n",
       "      <td>Aston Villa</td>\n",
       "      <td>Chelsea</td>\n",
       "      <td>2</td>\n",
       "      <td>2</td>\n",
       "      <td>D</td>\n",
       "      <td>2</td>\n",
       "      <td>0</td>\n",
       "      <td>H</td>\n",
       "      <td>C Pawson</td>\n",
       "      <td>9</td>\n",
       "      <td>21</td>\n",
       "      <td>4</td>\n",
       "      <td>5</td>\n",
       "      <td>6</td>\n",
       "      <td>3</td>\n",
       "      <td>1</td>\n",
       "      <td>0</td>\n",
       "      <td>20</td>\n",
       "    </tr>\n",
       "    <tr>\n",
       "      <th>343</th>\n",
       "      <td>28/04/2024</td>\n",
       "      <td>14:00</td>\n",
       "      <td>Bournemouth</td>\n",
       "      <td>Brighton</td>\n",
       "      <td>3</td>\n",
       "      <td>0</td>\n",
       "      <td>H</td>\n",
       "      <td>1</td>\n",
       "      <td>0</td>\n",
       "      <td>H</td>\n",
       "      <td>P Tierney</td>\n",
       "      <td>15</td>\n",
       "      <td>13</td>\n",
       "      <td>6</td>\n",
       "      <td>1</td>\n",
       "      <td>4</td>\n",
       "      <td>15</td>\n",
       "      <td>1</td>\n",
       "      <td>1</td>\n",
       "      <td>14</td>\n",
       "    </tr>\n",
       "    <tr>\n",
       "      <th>344</th>\n",
       "      <td>28/04/2024</td>\n",
       "      <td>14:00</td>\n",
       "      <td>Tottenham</td>\n",
       "      <td>Arsenal</td>\n",
       "      <td>2</td>\n",
       "      <td>3</td>\n",
       "      <td>A</td>\n",
       "      <td>0</td>\n",
       "      <td>3</td>\n",
       "      <td>A</td>\n",
       "      <td>M Oliver</td>\n",
       "      <td>14</td>\n",
       "      <td>9</td>\n",
       "      <td>2</td>\n",
       "      <td>3</td>\n",
       "      <td>0</td>\n",
       "      <td>12</td>\n",
       "      <td>-1</td>\n",
       "      <td>-1</td>\n",
       "      <td>14</td>\n",
       "    </tr>\n",
       "    <tr>\n",
       "      <th>345</th>\n",
       "      <td>28/04/2024</td>\n",
       "      <td>16:30</td>\n",
       "      <td>Nott'm Forest</td>\n",
       "      <td>Man City</td>\n",
       "      <td>0</td>\n",
       "      <td>2</td>\n",
       "      <td>A</td>\n",
       "      <td>0</td>\n",
       "      <td>1</td>\n",
       "      <td>A</td>\n",
       "      <td>S Hooper</td>\n",
       "      <td>14</td>\n",
       "      <td>11</td>\n",
       "      <td>2</td>\n",
       "      <td>5</td>\n",
       "      <td>12</td>\n",
       "      <td>22</td>\n",
       "      <td>-1</td>\n",
       "      <td>-1</td>\n",
       "      <td>16</td>\n",
       "    </tr>\n",
       "    <tr>\n",
       "      <th>346</th>\n",
       "      <td>02/05/2024</td>\n",
       "      <td>19:30</td>\n",
       "      <td>Chelsea</td>\n",
       "      <td>Tottenham</td>\n",
       "      <td>2</td>\n",
       "      <td>0</td>\n",
       "      <td>H</td>\n",
       "      <td>1</td>\n",
       "      <td>0</td>\n",
       "      <td>H</td>\n",
       "      <td>R Jones</td>\n",
       "      <td>16</td>\n",
       "      <td>19</td>\n",
       "      <td>5</td>\n",
       "      <td>3</td>\n",
       "      <td>17</td>\n",
       "      <td>16</td>\n",
       "      <td>1</td>\n",
       "      <td>1</td>\n",
       "      <td>19</td>\n",
       "    </tr>\n",
       "  </tbody>\n",
       "</table>\n",
       "</div>"
      ],
      "text/plain": [
       "           Date   Time       HomeTeam   AwayTeam  FTHG  FTAG FTR  HTHG  HTAG  \\\n",
       "342  27/04/2024  20:00    Aston Villa    Chelsea     2     2   D     2     0   \n",
       "343  28/04/2024  14:00    Bournemouth   Brighton     3     0   H     1     0   \n",
       "344  28/04/2024  14:00      Tottenham    Arsenal     2     3   A     0     3   \n",
       "345  28/04/2024  16:30  Nott'm Forest   Man City     0     2   A     0     1   \n",
       "346  02/05/2024  19:30        Chelsea  Tottenham     2     0   H     1     0   \n",
       "\n",
       "    HTR    Referee  HS  AS  HST  AST  opp_code  referee_code  HTR_int  target  \\\n",
       "342   H   C Pawson   9  21    4    5         6             3        1       0   \n",
       "343   H  P Tierney  15  13    6    1         4            15        1       1   \n",
       "344   A   M Oliver  14   9    2    3         0            12       -1      -1   \n",
       "345   A   S Hooper  14  11    2    5        12            22       -1      -1   \n",
       "346   H    R Jones  16  19    5    3        17            16        1       1   \n",
       "\n",
       "     hour  \n",
       "342    20  \n",
       "343    14  \n",
       "344    14  \n",
       "345    16  \n",
       "346    19  "
      ]
     },
     "execution_count": 20,
     "metadata": {},
     "output_type": "execute_result"
    }
   ],
   "source": [
    "df.tail()"
   ]
  },
  {
   "cell_type": "markdown",
   "id": "0a05655c-c82d-43a9-bcdd-14982c4e7f37",
   "metadata": {},
   "source": [
    "## 2. Training the machine learning model"
   ]
  },
  {
   "cell_type": "markdown",
   "id": "f853d352-4a9f-433d-ab1f-91cfba293663",
   "metadata": {},
   "source": [
    "The random forests algorithm is suitable to use since:\n",
    "1. Handles complex data: Football match data can be complex, with multiple factors influencing the outcome. Random Forests can effectively handle this complexity by combining multiple decision trees.\r",
    "2. Robust to irrelevant features: Random Forests are less sensitive to irrelevant features in the data, which might be present in football statistics.\n",
    "3. Accuracy: Random Forests are known to achieve good accuracy in match prediction tasks."
   ]
  },
  {
   "cell_type": "markdown",
   "id": "c626f8ea-ef5f-42f8-92f7-c77eedefe32f",
   "metadata": {},
   "source": [
    "To create an instance of random forests"
   ]
  },
  {
   "cell_type": "code",
   "execution_count": 262,
   "id": "732c3773-57b5-4f65-9987-fb33a97f608b",
   "metadata": {},
   "outputs": [],
   "source": [
    "rf = RandomForestClassifier(n_estimators=10, min_samples_split=5, random_state=1)"
   ]
  },
  {
   "cell_type": "markdown",
   "id": "03959818-ac4b-4670-95ed-245a23ac54b3",
   "metadata": {},
   "source": [
    "We have to split all our data into training and testing sets. Majority is put into the training set, which is where the model learns to predict from, while the rest is used to test the prediction accuracy of the trained model."
   ]
  },
  {
   "cell_type": "markdown",
   "id": "9f23c68b-67dd-4c0a-8101-a1a2982d5b61",
   "metadata": {},
   "source": [
    "The datasource has 330 rows. We'll use 70% of it to train and 30% to test."
   ]
  },
  {
   "cell_type": "code",
   "execution_count": 263,
   "id": "20a6cd3e-7b68-4abb-a2a2-dc2f84e9c130",
   "metadata": {},
   "outputs": [],
   "source": [
    "train = df[ : int(0.7*len(df))]\n",
    "test = df[int(0.7*len(df)) : ]"
   ]
  },
  {
   "cell_type": "markdown",
   "id": "54d4f3c6-3542-4307-ba96-aa09a97ca05b",
   "metadata": {},
   "source": [
    "Test data appearing in the training data is known to result in overfitting of a model (situation where the model is too conditioned to the training data and poorly generalizes to new data). To show that there is not overlap in the two sets, we view the end of the training set and the beginning of the test set."
   ]
  },
  {
   "cell_type": "code",
   "execution_count": 264,
   "id": "a28ee5e7-295c-42cf-9c26-747e3a9e1e30",
   "metadata": {},
   "outputs": [
    {
     "data": {
      "text/html": [
       "<div>\n",
       "<style scoped>\n",
       "    .dataframe tbody tr th:only-of-type {\n",
       "        vertical-align: middle;\n",
       "    }\n",
       "\n",
       "    .dataframe tbody tr th {\n",
       "        vertical-align: top;\n",
       "    }\n",
       "\n",
       "    .dataframe thead th {\n",
       "        text-align: right;\n",
       "    }\n",
       "</style>\n",
       "<table border=\"1\" class=\"dataframe\">\n",
       "  <thead>\n",
       "    <tr style=\"text-align: right;\">\n",
       "      <th></th>\n",
       "      <th>Date</th>\n",
       "      <th>Time</th>\n",
       "      <th>HomeTeam</th>\n",
       "      <th>AwayTeam</th>\n",
       "      <th>FTHG</th>\n",
       "      <th>FTAG</th>\n",
       "      <th>FTR</th>\n",
       "      <th>HTHG</th>\n",
       "      <th>HTAG</th>\n",
       "      <th>HTR</th>\n",
       "      <th>Referee</th>\n",
       "      <th>HS</th>\n",
       "      <th>AS</th>\n",
       "      <th>HST</th>\n",
       "      <th>AST</th>\n",
       "      <th>opp_code</th>\n",
       "      <th>referee_code</th>\n",
       "      <th>HTR_int</th>\n",
       "      <th>target</th>\n",
       "      <th>hour</th>\n",
       "    </tr>\n",
       "  </thead>\n",
       "  <tbody>\n",
       "    <tr>\n",
       "      <th>228</th>\n",
       "      <td>10/02/2024</td>\n",
       "      <td>12:30</td>\n",
       "      <td>Man City</td>\n",
       "      <td>Everton</td>\n",
       "      <td>2</td>\n",
       "      <td>0</td>\n",
       "      <td>H</td>\n",
       "      <td>0</td>\n",
       "      <td>0</td>\n",
       "      <td>D</td>\n",
       "      <td>J Brooks</td>\n",
       "      <td>19</td>\n",
       "      <td>5</td>\n",
       "      <td>3</td>\n",
       "      <td>1</td>\n",
       "      <td>8</td>\n",
       "      <td>9</td>\n",
       "      <td>0</td>\n",
       "      <td>1</td>\n",
       "      <td>12</td>\n",
       "    </tr>\n",
       "    <tr>\n",
       "      <th>229</th>\n",
       "      <td>10/02/2024</td>\n",
       "      <td>15:00</td>\n",
       "      <td>Fulham</td>\n",
       "      <td>Bournemouth</td>\n",
       "      <td>3</td>\n",
       "      <td>1</td>\n",
       "      <td>H</td>\n",
       "      <td>2</td>\n",
       "      <td>0</td>\n",
       "      <td>H</td>\n",
       "      <td>D England</td>\n",
       "      <td>7</td>\n",
       "      <td>25</td>\n",
       "      <td>6</td>\n",
       "      <td>4</td>\n",
       "      <td>2</td>\n",
       "      <td>7</td>\n",
       "      <td>1</td>\n",
       "      <td>1</td>\n",
       "      <td>15</td>\n",
       "    </tr>\n",
       "  </tbody>\n",
       "</table>\n",
       "</div>"
      ],
      "text/plain": [
       "           Date   Time  HomeTeam     AwayTeam  FTHG  FTAG FTR  HTHG  HTAG HTR  \\\n",
       "228  10/02/2024  12:30  Man City      Everton     2     0   H     0     0   D   \n",
       "229  10/02/2024  15:00    Fulham  Bournemouth     3     1   H     2     0   H   \n",
       "\n",
       "       Referee  HS  AS  HST  AST  opp_code  referee_code  HTR_int  target  \\\n",
       "228   J Brooks  19   5    3    1         8             9        0       1   \n",
       "229  D England   7  25    6    4         2             7        1       1   \n",
       "\n",
       "     hour  \n",
       "228    12  \n",
       "229    15  "
      ]
     },
     "execution_count": 264,
     "metadata": {},
     "output_type": "execute_result"
    }
   ],
   "source": [
    "# to show no overlap\n",
    "\n",
    "train.tail(2)"
   ]
  },
  {
   "cell_type": "code",
   "execution_count": 265,
   "id": "7d05c101-f4dd-4ad8-a443-5dd1af664ac6",
   "metadata": {},
   "outputs": [
    {
     "data": {
      "text/html": [
       "<div>\n",
       "<style scoped>\n",
       "    .dataframe tbody tr th:only-of-type {\n",
       "        vertical-align: middle;\n",
       "    }\n",
       "\n",
       "    .dataframe tbody tr th {\n",
       "        vertical-align: top;\n",
       "    }\n",
       "\n",
       "    .dataframe thead th {\n",
       "        text-align: right;\n",
       "    }\n",
       "</style>\n",
       "<table border=\"1\" class=\"dataframe\">\n",
       "  <thead>\n",
       "    <tr style=\"text-align: right;\">\n",
       "      <th></th>\n",
       "      <th>Date</th>\n",
       "      <th>Time</th>\n",
       "      <th>HomeTeam</th>\n",
       "      <th>AwayTeam</th>\n",
       "      <th>FTHG</th>\n",
       "      <th>FTAG</th>\n",
       "      <th>FTR</th>\n",
       "      <th>HTHG</th>\n",
       "      <th>HTAG</th>\n",
       "      <th>HTR</th>\n",
       "      <th>Referee</th>\n",
       "      <th>HS</th>\n",
       "      <th>AS</th>\n",
       "      <th>HST</th>\n",
       "      <th>AST</th>\n",
       "      <th>opp_code</th>\n",
       "      <th>referee_code</th>\n",
       "      <th>HTR_int</th>\n",
       "      <th>target</th>\n",
       "      <th>hour</th>\n",
       "    </tr>\n",
       "  </thead>\n",
       "  <tbody>\n",
       "    <tr>\n",
       "      <th>230</th>\n",
       "      <td>10/02/2024</td>\n",
       "      <td>15:00</td>\n",
       "      <td>Liverpool</td>\n",
       "      <td>Burnley</td>\n",
       "      <td>3</td>\n",
       "      <td>1</td>\n",
       "      <td>H</td>\n",
       "      <td>1</td>\n",
       "      <td>1</td>\n",
       "      <td>D</td>\n",
       "      <td>T Robinson</td>\n",
       "      <td>25</td>\n",
       "      <td>9</td>\n",
       "      <td>10</td>\n",
       "      <td>4</td>\n",
       "      <td>5</td>\n",
       "      <td>27</td>\n",
       "      <td>0</td>\n",
       "      <td>1</td>\n",
       "      <td>15</td>\n",
       "    </tr>\n",
       "    <tr>\n",
       "      <th>231</th>\n",
       "      <td>10/02/2024</td>\n",
       "      <td>15:00</td>\n",
       "      <td>Luton</td>\n",
       "      <td>Sheffield United</td>\n",
       "      <td>1</td>\n",
       "      <td>3</td>\n",
       "      <td>A</td>\n",
       "      <td>0</td>\n",
       "      <td>2</td>\n",
       "      <td>A</td>\n",
       "      <td>C Kavanagh</td>\n",
       "      <td>20</td>\n",
       "      <td>7</td>\n",
       "      <td>5</td>\n",
       "      <td>3</td>\n",
       "      <td>16</td>\n",
       "      <td>2</td>\n",
       "      <td>-1</td>\n",
       "      <td>-1</td>\n",
       "      <td>15</td>\n",
       "    </tr>\n",
       "  </tbody>\n",
       "</table>\n",
       "</div>"
      ],
      "text/plain": [
       "           Date   Time   HomeTeam          AwayTeam  FTHG  FTAG FTR  HTHG  \\\n",
       "230  10/02/2024  15:00  Liverpool           Burnley     3     1   H     1   \n",
       "231  10/02/2024  15:00      Luton  Sheffield United     1     3   A     0   \n",
       "\n",
       "     HTAG HTR     Referee  HS  AS  HST  AST  opp_code  referee_code  HTR_int  \\\n",
       "230     1   D  T Robinson  25   9   10    4         5            27        0   \n",
       "231     2   A  C Kavanagh  20   7    5    3        16             2       -1   \n",
       "\n",
       "     target  hour  \n",
       "230       1    15  \n",
       "231      -1    15  "
      ]
     },
     "execution_count": 265,
     "metadata": {},
     "output_type": "execute_result"
    }
   ],
   "source": [
    "test.tail(2)"
   ]
  },
  {
   "cell_type": "markdown",
   "id": "079562d8-6d0c-41cf-8415-4bbb6f3a16ed",
   "metadata": {},
   "source": [
    "The indices show there is no overlap."
   ]
  },
  {
   "cell_type": "markdown",
   "id": "9c806b2f-14a1-422b-a6f2-ab67598677b8",
   "metadata": {},
   "source": [
    "Below are all the columns in the datasource"
   ]
  },
  {
   "cell_type": "code",
   "execution_count": 266,
   "id": "5cf98fa4-cbc3-4cd0-87cf-3a73ee179a54",
   "metadata": {
    "scrolled": true
   },
   "outputs": [
    {
     "data": {
      "text/plain": [
       "Index(['Date', 'Time', 'HomeTeam', 'AwayTeam', 'FTHG', 'FTAG', 'FTR', 'HTHG',\n",
       "       'HTAG', 'HTR', 'Referee', 'HS', 'AS', 'HST', 'AST', 'opp_code',\n",
       "       'referee_code', 'HTR_int', 'target', 'hour'],\n",
       "      dtype='object')"
      ]
     },
     "execution_count": 266,
     "metadata": {},
     "output_type": "execute_result"
    }
   ],
   "source": [
    "df.columns"
   ]
  },
  {
   "cell_type": "markdown",
   "id": "d13cce15-c121-4e72-adb4-0ef3d1e3068d",
   "metadata": {},
   "source": [
    "Only the following will be used for prediction"
   ]
  },
  {
   "cell_type": "code",
   "execution_count": 267,
   "id": "463cadb3-222f-4c43-9431-7a5bc78ad997",
   "metadata": {},
   "outputs": [],
   "source": [
    "predictors = ['FTHG', 'FTAG', 'HTHG', 'HTAG', 'HS', 'AS', 'HST', 'AST', 'opp_code', 'hour', 'referee_code', 'HTR_int']"
   ]
  },
  {
   "cell_type": "markdown",
   "id": "0a112a1f-253b-4ac4-975d-cba666786ac1",
   "metadata": {},
   "source": [
    "To assert that all predictor columns have numerical data type"
   ]
  },
  {
   "cell_type": "code",
   "execution_count": 268,
   "id": "a42c393f-8383-4555-8766-161e85b08659",
   "metadata": {},
   "outputs": [
    {
     "name": "stdout",
     "output_type": "stream",
     "text": [
      "<class 'numpy.int64'>\n",
      "<class 'numpy.int64'>\n",
      "<class 'numpy.int64'>\n",
      "<class 'numpy.int64'>\n",
      "<class 'numpy.int64'>\n",
      "<class 'numpy.int64'>\n",
      "<class 'numpy.int64'>\n",
      "<class 'numpy.int64'>\n",
      "<class 'numpy.int8'>\n",
      "<class 'numpy.int32'>\n",
      "<class 'numpy.int8'>\n",
      "<class 'numpy.int64'>\n"
     ]
    }
   ],
   "source": [
    "for col in predictors:\n",
    "    print(type(df[col][0]))"
   ]
  },
  {
   "cell_type": "markdown",
   "id": "9c081249-dc6a-4ed9-9e71-5082ec7b9fc1",
   "metadata": {},
   "source": [
    "To fit/ train the random forests model"
   ]
  },
  {
   "cell_type": "code",
   "execution_count": 269,
   "id": "47031868-b325-4d7c-b2c1-398821eff323",
   "metadata": {},
   "outputs": [
    {
     "data": {
      "text/html": [
       "<style>#sk-container-id-5 {color: black;background-color: white;}#sk-container-id-5 pre{padding: 0;}#sk-container-id-5 div.sk-toggleable {background-color: white;}#sk-container-id-5 label.sk-toggleable__label {cursor: pointer;display: block;width: 100%;margin-bottom: 0;padding: 0.3em;box-sizing: border-box;text-align: center;}#sk-container-id-5 label.sk-toggleable__label-arrow:before {content: \"▸\";float: left;margin-right: 0.25em;color: #696969;}#sk-container-id-5 label.sk-toggleable__label-arrow:hover:before {color: black;}#sk-container-id-5 div.sk-estimator:hover label.sk-toggleable__label-arrow:before {color: black;}#sk-container-id-5 div.sk-toggleable__content {max-height: 0;max-width: 0;overflow: hidden;text-align: left;background-color: #f0f8ff;}#sk-container-id-5 div.sk-toggleable__content pre {margin: 0.2em;color: black;border-radius: 0.25em;background-color: #f0f8ff;}#sk-container-id-5 input.sk-toggleable__control:checked~div.sk-toggleable__content {max-height: 200px;max-width: 100%;overflow: auto;}#sk-container-id-5 input.sk-toggleable__control:checked~label.sk-toggleable__label-arrow:before {content: \"▾\";}#sk-container-id-5 div.sk-estimator input.sk-toggleable__control:checked~label.sk-toggleable__label {background-color: #d4ebff;}#sk-container-id-5 div.sk-label input.sk-toggleable__control:checked~label.sk-toggleable__label {background-color: #d4ebff;}#sk-container-id-5 input.sk-hidden--visually {border: 0;clip: rect(1px 1px 1px 1px);clip: rect(1px, 1px, 1px, 1px);height: 1px;margin: -1px;overflow: hidden;padding: 0;position: absolute;width: 1px;}#sk-container-id-5 div.sk-estimator {font-family: monospace;background-color: #f0f8ff;border: 1px dotted black;border-radius: 0.25em;box-sizing: border-box;margin-bottom: 0.5em;}#sk-container-id-5 div.sk-estimator:hover {background-color: #d4ebff;}#sk-container-id-5 div.sk-parallel-item::after {content: \"\";width: 100%;border-bottom: 1px solid gray;flex-grow: 1;}#sk-container-id-5 div.sk-label:hover label.sk-toggleable__label {background-color: #d4ebff;}#sk-container-id-5 div.sk-serial::before {content: \"\";position: absolute;border-left: 1px solid gray;box-sizing: border-box;top: 0;bottom: 0;left: 50%;z-index: 0;}#sk-container-id-5 div.sk-serial {display: flex;flex-direction: column;align-items: center;background-color: white;padding-right: 0.2em;padding-left: 0.2em;position: relative;}#sk-container-id-5 div.sk-item {position: relative;z-index: 1;}#sk-container-id-5 div.sk-parallel {display: flex;align-items: stretch;justify-content: center;background-color: white;position: relative;}#sk-container-id-5 div.sk-item::before, #sk-container-id-5 div.sk-parallel-item::before {content: \"\";position: absolute;border-left: 1px solid gray;box-sizing: border-box;top: 0;bottom: 0;left: 50%;z-index: -1;}#sk-container-id-5 div.sk-parallel-item {display: flex;flex-direction: column;z-index: 1;position: relative;background-color: white;}#sk-container-id-5 div.sk-parallel-item:first-child::after {align-self: flex-end;width: 50%;}#sk-container-id-5 div.sk-parallel-item:last-child::after {align-self: flex-start;width: 50%;}#sk-container-id-5 div.sk-parallel-item:only-child::after {width: 0;}#sk-container-id-5 div.sk-dashed-wrapped {border: 1px dashed gray;margin: 0 0.4em 0.5em 0.4em;box-sizing: border-box;padding-bottom: 0.4em;background-color: white;}#sk-container-id-5 div.sk-label label {font-family: monospace;font-weight: bold;display: inline-block;line-height: 1.2em;}#sk-container-id-5 div.sk-label-container {text-align: center;}#sk-container-id-5 div.sk-container {/* jupyter's `normalize.less` sets `[hidden] { display: none; }` but bootstrap.min.css set `[hidden] { display: none !important; }` so we also need the `!important` here to be able to override the default hidden behavior on the sphinx rendered scikit-learn.org. See: https://github.com/scikit-learn/scikit-learn/issues/21755 */display: inline-block !important;position: relative;}#sk-container-id-5 div.sk-text-repr-fallback {display: none;}</style><div id=\"sk-container-id-5\" class=\"sk-top-container\"><div class=\"sk-text-repr-fallback\"><pre>RandomForestClassifier(min_samples_split=5, n_estimators=10, random_state=1)</pre><b>In a Jupyter environment, please rerun this cell to show the HTML representation or trust the notebook. <br />On GitHub, the HTML representation is unable to render, please try loading this page with nbviewer.org.</b></div><div class=\"sk-container\" hidden><div class=\"sk-item\"><div class=\"sk-estimator sk-toggleable\"><input class=\"sk-toggleable__control sk-hidden--visually\" id=\"sk-estimator-id-5\" type=\"checkbox\" checked><label for=\"sk-estimator-id-5\" class=\"sk-toggleable__label sk-toggleable__label-arrow\">RandomForestClassifier</label><div class=\"sk-toggleable__content\"><pre>RandomForestClassifier(min_samples_split=5, n_estimators=10, random_state=1)</pre></div></div></div></div></div>"
      ],
      "text/plain": [
       "RandomForestClassifier(min_samples_split=5, n_estimators=10, random_state=1)"
      ]
     },
     "execution_count": 269,
     "metadata": {},
     "output_type": "execute_result"
    }
   ],
   "source": [
    "rf.fit(train[predictors], train['target'])"
   ]
  },
  {
   "cell_type": "markdown",
   "id": "daaaf9c3-d457-4856-b310-13a2b6a3fba1",
   "metadata": {},
   "source": [
    "The model is now trained, meaning it can form predictions as long as it is given the predictors above.\n",
    "\n",
    "Now to make predictions from our test data:"
   ]
  },
  {
   "cell_type": "code",
   "execution_count": 270,
   "id": "712d95bb-ec40-42c4-a3a6-8d4cbdc9cc3a",
   "metadata": {},
   "outputs": [],
   "source": [
    "preds = rf.predict(test[predictors])"
   ]
  },
  {
   "cell_type": "markdown",
   "id": "659930c2-3602-4bb8-a7ad-525a8fea2e42",
   "metadata": {},
   "source": [
    "The predictions look like this"
   ]
  },
  {
   "cell_type": "code",
   "execution_count": 271,
   "id": "783edcc3-5003-4273-954f-0e041da3cfd2",
   "metadata": {
    "scrolled": true
   },
   "outputs": [
    {
     "data": {
      "text/plain": [
       "array([ 1, -1,  1, -1, -1, -1, -1, -1, -1, -1, -1,  0,  1, -1,  0, -1, -1,\n",
       "        0,  1,  1,  1,  0,  1, -1, -1,  1,  1,  1,  0, -1,  1,  1,  0,  1,\n",
       "       -1, -1,  1, -1,  1,  0,  0,  1,  1, -1,  1,  0,  0,  1, -1,  1,  0,\n",
       "        1,  0, -1,  1,  1,  0,  0,  1,  1,  0,  1, -1,  0,  1,  1,  0,  0,\n",
       "        1,  0,  1,  1,  0, -1, -1,  1, -1,  1, -1, -1,  0,  0,  1,  1,  1,\n",
       "        0,  1,  1,  0, -1, -1, -1,  1, -1, -1, -1,  1,  1,  1, -1],\n",
       "      dtype=int64)"
      ]
     },
     "execution_count": 271,
     "metadata": {},
     "output_type": "execute_result"
    }
   ],
   "source": [
    "preds"
   ]
  },
  {
   "cell_type": "markdown",
   "id": "abe40d37-cfb0-4fdd-a714-7a844a34750e",
   "metadata": {},
   "source": [
    "We would have to match each match in the testing set to the corresponding prediction above to make sense of these results."
   ]
  },
  {
   "cell_type": "markdown",
   "id": "d98e92a9-c956-41de-b655-a76fa506af1c",
   "metadata": {},
   "source": [
    "Now, our test data already had the match results (it is historical data). We can compare our predictions with the actual results and work out the accuracy of our model as follows."
   ]
  },
  {
   "cell_type": "code",
   "execution_count": 272,
   "id": "6c6cd2d6-61a4-46e8-bce5-c765f929d913",
   "metadata": {},
   "outputs": [],
   "source": [
    "acc = accuracy_score(test['target'], preds)"
   ]
  },
  {
   "cell_type": "code",
   "execution_count": 273,
   "id": "1d149b32-a578-470e-aaf6-ce21358abb8e",
   "metadata": {
    "scrolled": true
   },
   "outputs": [
    {
     "data": {
      "text/plain": [
       "0.92"
      ]
     },
     "execution_count": 273,
     "metadata": {},
     "output_type": "execute_result"
    }
   ],
   "source": [
    "acc"
   ]
  },
  {
   "cell_type": "markdown",
   "id": "90d7825f-666d-440c-a614-6a4f4ad9cd67",
   "metadata": {},
   "source": [
    "The model has about 92% accuracy. Again, the accuracy is likely to improve if more data is used in training, more parameters (columns) are used, and different (combinations of) machine learning algorithms are used."
   ]
  },
  {
   "cell_type": "markdown",
   "id": "29681552-aa7a-449d-965b-6a36f1e764c0",
   "metadata": {},
   "source": [
    "## 3. Example future prediction"
   ]
  },
  {
   "cell_type": "markdown",
   "id": "10bb836a-7a31-4b95-95e2-f4c7da17d234",
   "metadata": {},
   "source": [
    "Testing the prediction for this weekend's (5pm 27th April, 2024) match between Manchester United and Burnley:\n",
    "\n",
    "Let the home team be Man. U. and the away team be Burnley. We'll calculate the odds for the following match results: Date=27/04/2024, Time=17:00, FTHG=2, FTAG=1, FTR=H, HTHG=1, HTAG=1, HTR=H, Referee=M Atkinson, HS=30, AS=20, HST=14, AST=8.\n",
    "\n",
    "This would be presented as \"odds for Man. U. vs. Burnley, 27th April, 2024. Full time result: 2:1, Half time result: 1:1.\"\n",
    "\n",
    "Odds for other probable outcomes would also be calculated and presented for purchase."
   ]
  },
  {
   "cell_type": "markdown",
   "id": "055e80c9-3400-4bdd-a5f8-63353c072354",
   "metadata": {},
   "source": [
    "To find the opponent codes assigned to these two teams and the referee"
   ]
  },
  {
   "cell_type": "code",
   "execution_count": 274,
   "id": "c4f672b2-6e93-43cd-805b-60454e94e7a5",
   "metadata": {},
   "outputs": [
    {
     "data": {
      "text/plain": [
       "AwayTeam\n",
       "Arsenal              0\n",
       "Aston Villa          1\n",
       "Bournemouth          2\n",
       "Brentford            3\n",
       "Brighton             4\n",
       "Burnley              5\n",
       "Chelsea              6\n",
       "Crystal Palace       7\n",
       "Everton              8\n",
       "Fulham               9\n",
       "Liverpool           10\n",
       "Luton               11\n",
       "Man City            12\n",
       "Man United          13\n",
       "Newcastle           14\n",
       "Nott'm Forest       15\n",
       "Sheffield United    16\n",
       "Tottenham           17\n",
       "West Ham            18\n",
       "Wolves              19\n",
       "Name: opp_code, dtype: int8"
      ]
     },
     "execution_count": 274,
     "metadata": {},
     "output_type": "execute_result"
    }
   ],
   "source": [
    "df.groupby('AwayTeam')['opp_code'].first()"
   ]
  },
  {
   "cell_type": "markdown",
   "id": "edc84616-5400-4fe3-94b9-c099bf6fd91a",
   "metadata": {},
   "source": [
    "Burnley has an opp code of 4."
   ]
  },
  {
   "cell_type": "code",
   "execution_count": 275,
   "id": "17478d24-ab2d-4a69-a649-4abcfcf73e6f",
   "metadata": {
    "scrolled": true
   },
   "outputs": [
    {
     "data": {
      "text/plain": [
       "Referee\n",
       "A Madley         0\n",
       "A Taylor         1\n",
       "C Kavanagh       2\n",
       "C Pawson         3\n",
       "C Salisbury      4\n",
       "D Bond           5\n",
       "D Coote          6\n",
       "D England        7\n",
       "G Scott          8\n",
       "J Brooks         9\n",
       "J Gillett       10\n",
       "J Smith         11\n",
       "L Smith         12\n",
       "M Oliver        13\n",
       "M Salisbury     14\n",
       "P Bankes        15\n",
       "P Tierney       16\n",
       "R Jones         17\n",
       "R Madley        18\n",
       "R Welch         19\n",
       "S Allison       20\n",
       "S Attwell       21\n",
       "S Barrott       22\n",
       "S Hooper        23\n",
       "S Singh         24\n",
       "T Bramall       25\n",
       "T Harrington    26\n",
       "T Robinson      27\n",
       "Name: referee_code, dtype: int8"
      ]
     },
     "execution_count": 275,
     "metadata": {},
     "output_type": "execute_result"
    }
   ],
   "source": [
    "df.groupby('Referee')['referee_code'].first()"
   ]
  },
  {
   "cell_type": "markdown",
   "id": "4e087bc0-09c7-439f-80ff-738db136022e",
   "metadata": {},
   "source": [
    "M Atkinson has referee code 12."
   ]
  },
  {
   "cell_type": "markdown",
   "id": "089d7283-3ece-4278-8211-3c885249bbe2",
   "metadata": {},
   "source": [
    "Now putting this data into a form that can be passed into the random forests predictor model"
   ]
  },
  {
   "cell_type": "code",
   "execution_count": 276,
   "id": "d4969b1b-03de-4fe5-977c-e43db29691de",
   "metadata": {},
   "outputs": [],
   "source": [
    "manu_burn_27th = pd.DataFrame({\n",
    "    'FTHG': [2],\n",
    "    'FTAG': [1],\n",
    "    'HTHG': [1],\n",
    "    'HTAG': [1],\n",
    "    'HS': [20],\n",
    "    'AS': [14],\n",
    "    'HST': [10],\n",
    "    'AST': [8],\n",
    "    'opp_code': [4],\n",
    "    'hour': [17],\n",
    "    'referee_code': [12],\n",
    "    'HTR_int': [1]\n",
    "})"
   ]
  },
  {
   "cell_type": "code",
   "execution_count": 277,
   "id": "c485f5ed-6bd8-4ed2-99c5-9a488e566e04",
   "metadata": {},
   "outputs": [
    {
     "data": {
      "text/html": [
       "<div>\n",
       "<style scoped>\n",
       "    .dataframe tbody tr th:only-of-type {\n",
       "        vertical-align: middle;\n",
       "    }\n",
       "\n",
       "    .dataframe tbody tr th {\n",
       "        vertical-align: top;\n",
       "    }\n",
       "\n",
       "    .dataframe thead th {\n",
       "        text-align: right;\n",
       "    }\n",
       "</style>\n",
       "<table border=\"1\" class=\"dataframe\">\n",
       "  <thead>\n",
       "    <tr style=\"text-align: right;\">\n",
       "      <th></th>\n",
       "      <th>FTHG</th>\n",
       "      <th>FTAG</th>\n",
       "      <th>HTHG</th>\n",
       "      <th>HTAG</th>\n",
       "      <th>HS</th>\n",
       "      <th>AS</th>\n",
       "      <th>HST</th>\n",
       "      <th>AST</th>\n",
       "      <th>opp_code</th>\n",
       "      <th>hour</th>\n",
       "      <th>referee_code</th>\n",
       "      <th>HTR_int</th>\n",
       "    </tr>\n",
       "  </thead>\n",
       "  <tbody>\n",
       "    <tr>\n",
       "      <th>0</th>\n",
       "      <td>2</td>\n",
       "      <td>1</td>\n",
       "      <td>1</td>\n",
       "      <td>1</td>\n",
       "      <td>20</td>\n",
       "      <td>14</td>\n",
       "      <td>10</td>\n",
       "      <td>8</td>\n",
       "      <td>4</td>\n",
       "      <td>17</td>\n",
       "      <td>12</td>\n",
       "      <td>1</td>\n",
       "    </tr>\n",
       "  </tbody>\n",
       "</table>\n",
       "</div>"
      ],
      "text/plain": [
       "   FTHG  FTAG  HTHG  HTAG  HS  AS  HST  AST  opp_code  hour  referee_code  \\\n",
       "0     2     1     1     1  20  14   10    8         4    17            12   \n",
       "\n",
       "   HTR_int  \n",
       "0        1  "
      ]
     },
     "execution_count": 277,
     "metadata": {},
     "output_type": "execute_result"
    }
   ],
   "source": [
    "manu_burn_27th"
   ]
  },
  {
   "cell_type": "markdown",
   "id": "dc6c098e-8baf-4e17-940b-becbfe8af31f",
   "metadata": {},
   "source": [
    "To calculate the match prediction"
   ]
  },
  {
   "cell_type": "code",
   "execution_count": 278,
   "id": "7a367f06-6078-4cfd-ab4f-c8da1160ad61",
   "metadata": {},
   "outputs": [],
   "source": [
    "preds_manu_burn_27th = rf.predict(manu_burn_27th)"
   ]
  },
  {
   "cell_type": "code",
   "execution_count": 279,
   "id": "ca304b6c-eaa0-4249-a2e7-b3b6fab4614b",
   "metadata": {},
   "outputs": [
    {
     "data": {
      "text/plain": [
       "1"
      ]
     },
     "execution_count": 279,
     "metadata": {},
     "output_type": "execute_result"
    }
   ],
   "source": [
    "preds_manu_burn_27th[0]"
   ]
  },
  {
   "cell_type": "markdown",
   "id": "1ecad40b-06aa-4ea4-a5fc-dcb64b504b91",
   "metadata": {},
   "source": [
    "1 corresponds to W.\n",
    "\n",
    "The prediction is that Man. U. will win."
   ]
  },
  {
   "cell_type": "markdown",
   "id": "03ee15c3-f625-4f4c-84c2-8ac3b3b292d3",
   "metadata": {},
   "source": [
    "To calculate the odds, we use the formula: odds = 1/probability. The probabilities for the three outcomes: draw, loss, win are:"
   ]
  },
  {
   "cell_type": "code",
   "execution_count": 280,
   "id": "784918c3-ba54-4275-be04-5a83b480dbd2",
   "metadata": {},
   "outputs": [
    {
     "data": {
      "text/plain": [
       "array([0.04, 0.26, 0.7 ])"
      ]
     },
     "execution_count": 280,
     "metadata": {},
     "output_type": "execute_result"
    }
   ],
   "source": [
    "p_outcomes = rf.predict_proba(manu_burn_27th)[0]\n",
    "p_outcomes"
   ]
  },
  {
   "cell_type": "markdown",
   "id": "4c5c4cf2-683f-41dc-aae0-a64d03deefe8",
   "metadata": {},
   "source": [
    "This is intepreted as a 70% probability of a Man. U. win, 26% probability of a draw, and a 4% probability of a Burnley win.\n",
    "\n",
    "Compare this with Google's predictions of 65%, 19%, and 16% as below.\n",
    "\n",
    "The fact that our model has been trained on only 330 data items for the present season only yet has predictions comparable to those of broader models speaks to the suitability of this approach."
   ]
  },
  {
   "attachments": {
    "6e74f2e2-84a6-4482-b33c-6d0d66b83819.png": {
     "image/png": "[encoded data removed]"
    }
   },
   "cell_type": "markdown",
   "id": "c50a0e64-e3e7-485c-b949-7231119e1a18",
   "metadata": {},
   "source": [
    "![manu_vs_burnley.png](attachment:6e74f2e2-84a6-4482-b33c-6d0d66b83819.png)"
   ]
  },
  {
   "cell_type": "code",
   "execution_count": 283,
   "id": "183fe268-e526-46b0-854e-1d716c2b79a1",
   "metadata": {
    "scrolled": true
   },
   "outputs": [
    {
     "name": "stdout",
     "output_type": "stream",
     "text": [
      "The odds of loss is 25.0\n",
      "The odds of draw is 3.846153846153846\n",
      "The odds of win is 1.4285714285714286\n"
     ]
    }
   ],
   "source": [
    "outcomes = ['loss', 'draw', 'win']\n",
    "n = 0\n",
    "\n",
    "for outcome in p_outcomes:\n",
    "    print(f'The odds of {outcomes[n]} is {1/outcome}')\n",
    "    n += 1"
   ]
  },
  {
   "cell_type": "markdown",
   "id": "6e98ac4e-8fb3-466b-ae29-8c9ac38e97ed",
   "metadata": {},
   "source": [
    "The odds of a loss are 25, those of a draw are 3.8, and those of a win are 1.4. Typically, the more extreme values (like the 25) would be regularized down using a statistical strategy the betting firm has worked out to ensure its long-term profit."
   ]
  },
  {
   "cell_type": "markdown",
   "id": "702c69fe-1b4d-44dd-b356-c03ad0bcca36",
   "metadata": {},
   "source": [
    "## 4. Further work"
   ]
  },
  {
   "cell_type": "markdown",
   "id": "e2646e5c-df56-453f-a8f7-5a035721026b",
   "metadata": {},
   "source": [
    "To improve model performance, get more data with more features.\n",
    "\n",
    "Explore the accuracy of other machine learning models and techniques.\n",
    "\n",
    "Develop an automated routine to get data on upcoming matches and work out the odds."
   ]
  }
 ],
 "metadata": {
  "kernelspec": {
   "display_name": "Python 3 (ipykernel)",
   "language": "python",
   "name": "python3"
  },
  "language_info": {
   "codemirror_mode": {
    "name": "ipython",
    "version": 3
   },
   "file_extension": ".py",
   "mimetype": "text/x-python",
   "name": "python",
   "nbconvert_exporter": "python",
   "pygments_lexer": "ipython3",
   "version": "3.11.7"
  }
 },
 "nbformat": 4,
 "nbformat_minor": 5
}
